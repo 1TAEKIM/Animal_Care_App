{
 "cells": [
  {
   "cell_type": "code",
   "execution_count": 34,
   "metadata": {},
   "outputs": [],
   "source": [
    "import json\n",
    "from PIL import Image, ImageDraw"
   ]
  },
  {
   "cell_type": "code",
   "execution_count": 50,
   "metadata": {},
   "outputs": [
    {
     "data": {
      "text/plain": [
       "(703, 669, 25, 37)"
      ]
     },
     "execution_count": 50,
     "metadata": {},
     "output_type": "execute_result"
    }
   ],
   "source": [
    "# JSON 파일에서 X, Y, WIDTH, HEIGHT 출력하기\n",
    "\n",
    "with open('IMG_D_A1_000006.json', 'r', encoding = 'utf-8') as json_file:\n",
    "    json_data = json.load(json_file)\n",
    "\n",
    "# The box coordinates are located under the second item in 'labelingInfo' with the 'box' type\n",
    "box = json_data['labelingInfo'][1]['box']['location'][0]\n",
    "\n",
    "# Extracting the coordinates and dimensions\n",
    "x = box['x']\n",
    "y = box['y']\n",
    "width = box['width']\n",
    "height = box['height']\n",
    "\n",
    "# Display the extracted values\n",
    "x, y, width, height"
   ]
  },
  {
   "cell_type": "code",
   "execution_count": 52,
   "metadata": {},
   "outputs": [
    {
     "data": {
      "text/plain": [
       "'cropped_IMG_D_A1_000006.jpg'"
      ]
     },
     "execution_count": 52,
     "metadata": {},
     "output_type": "execute_result"
    }
   ],
   "source": [
    "# 위에서 출력된 좌표를 바탕으로 JPG 파일 크롭하기\n",
    "\n",
    "image = Image.open('IMG_D_A1_000006.jpg')\n",
    "\n",
    "# Crop the image using the box information\n",
    "cropped_image = image.crop((x, y, x + width, y + height))\n",
    "\n",
    "# Save the cropped image\n",
    "cropped_image_path = 'cropped_IMG_D_A1_000006.jpg'\n",
    "cropped_image.save(cropped_image_path)\n",
    "\n",
    "# Provide the path of the saved cropped image\n",
    "cropped_image_path"
   ]
  },
  {
   "cell_type": "code",
   "execution_count": 56,
   "metadata": {},
   "outputs": [
    {
     "name": "stdout",
     "output_type": "stream",
     "text": [
      "Cropped image saved to: crop_plz\\cropped_IMG_D_A1_000001.jpg\n",
      "Cropped image saved to: crop_plz\\cropped_IMG_D_A1_000002.jpg\n",
      "Cropped image saved to: crop_plz\\cropped_IMG_D_A1_000003.jpg\n"
     ]
    }
   ],
   "source": [
    "# 크롭된 이미지 자동으로 출력\n",
    "\n",
    "import os\n",
    "import json\n",
    "from PIL import Image, ImageDraw\n",
    "from pathlib import Path\n",
    "\n",
    "# Define the directory containing the JSON and image files\n",
    "directory_path = Path('crop_plz')\n",
    "\n",
    "# Function to crop images based on the box information from the corresponding JSON file\n",
    "def crop_image_from_json(json_path, image_path, save_path):\n",
    "    # Extract the box information from the JSON file\n",
    "    with json_path.open('r', encoding='utf-8') as json_file:\n",
    "        json_data = json.load(json_file)\n",
    "    \n",
    "    # The box coordinates are located under the second item in 'labelingInfo' with the 'box' type\n",
    "    box = json_data['labelingInfo'][1]['box']['location'][0]\n",
    "    \n",
    "    # Extracting the coordinates and dimensions\n",
    "    x = box['x']\n",
    "    y = box['y']\n",
    "    width = box['width']\n",
    "    height = box['height']\n",
    "    \n",
    "    # Load and crop the image\n",
    "    with Image.open(image_path) as image:\n",
    "        cropped_image = image.crop((x, y, x + width, y + height))\n",
    "    \n",
    "    # Save the cropped image\n",
    "    cropped_image.save(save_path)\n",
    "\n",
    "# Scan the directory for JSON files and process each one\n",
    "for json_file in directory_path.glob('*.json'):\n",
    "    base_name = json_file.stem\n",
    "    image_file = directory_path / f\"{base_name}.jpg\"\n",
    "    save_path = directory_path / f\"cropped_{base_name}.jpg\"\n",
    "\n",
    "    # Check if the corresponding image file exists\n",
    "    if image_file.exists():\n",
    "        crop_image_from_json(json_file, image_file, save_path)\n",
    "        print(f\"Cropped image saved to: {save_path}\")\n",
    "    else:\n",
    "        print(f\"Image file {image_file} not found.\")\n"
   ]
  },
  {
   "cell_type": "code",
   "execution_count": 55,
   "metadata": {},
   "outputs": [
    {
     "name": "stdout",
     "output_type": "stream",
     "text": [
      "Cropped image saved to: crop_plz_2\\cropped_IMG_D_A1_000005_box1.jpg\n",
      "Cropped image saved to: crop_plz_2\\cropped_IMG_D_A1_000005_box2.jpg\n",
      "Cropped image saved to: crop_plz_2\\cropped_IMG_D_A1_000006_box1.jpg\n",
      "Cropped image saved to: crop_plz_2\\cropped_IMG_D_A1_000007_box1.jpg\n",
      "Cropped image saved to: crop_plz_2\\cropped_IMG_D_A1_000008_box1.jpg\n",
      "Cropped image saved to: crop_plz_2\\cropped_IMG_D_A1_000009_box1.jpg\n",
      "Cropped image saved to: crop_plz_2\\cropped_IMG_D_A1_000010_box1.jpg\n",
      "Cropped image saved to: crop_plz_2\\cropped_IMG_D_A1_000010_box2.jpg\n",
      "Cropped image saved to: crop_plz_2\\cropped_IMG_D_A1_000011_box1.jpg\n",
      "Cropped image saved to: crop_plz_2\\cropped_IMG_D_A1_000012_box1.jpg\n"
     ]
    }
   ],
   "source": [
    "# JSON 파일 내 Box가 여러개여도 JPG 파일로 변환하기\n",
    "\n",
    "import os\n",
    "import json\n",
    "from PIL import Image\n",
    "from pathlib import Path\n",
    "\n",
    "# Define the directory containing the JSON and image files\n",
    "directory_path = Path('crop_plz_2')\n",
    "\n",
    "# Function to crop images based on the box information from the corresponding JSON file\n",
    "def crop_images_from_json(json_path, image_path):\n",
    "    # Extract the box information from the JSON file\n",
    "    with json_path.open('r', encoding='utf-8') as json_file:\n",
    "        json_data = json.load(json_file)\n",
    "    \n",
    "    # Find all 'box' type entries in the 'labelingInfo' section\n",
    "    boxes = [info['box']['location'][0] for info in json_data['labelingInfo'] if info.get('box')]\n",
    "\n",
    "    # Load the image once\n",
    "    with Image.open(image_path) as image:\n",
    "        for i, box in enumerate(boxes, start=1):\n",
    "            # Extracting the coordinates and dimensions\n",
    "            x = box['x']\n",
    "            y = box['y']\n",
    "            width = box['width']\n",
    "            height = box['height']\n",
    "            \n",
    "            # Crop the image using the box information\n",
    "            cropped_image = image.crop((x, y, x + width, y + height))\n",
    "            \n",
    "            # Construct the save path with a suffix to differentiate multiple crops\n",
    "            save_path = image_path.parent / f\"cropped_{image_path.stem}_box{i}.jpg\"\n",
    "            cropped_image.save(save_path)\n",
    "\n",
    "            print(f\"Cropped image saved to: {save_path}\")\n",
    "\n",
    "# Scan the directory for JSON files and process each one\n",
    "for json_file in directory_path.glob('*.json'):\n",
    "    image_file = directory_path / json_file.with_suffix('.jpg').name\n",
    "    # Check if the corresponding image file exists\n",
    "    if image_file.exists():\n",
    "        crop_images_from_json(json_file, image_file)\n",
    "    else:\n",
    "        print(f\"Image file {image_file} not found.\")\n",
    "\n"
   ]
  }
 ],
 "metadata": {
  "kernelspec": {
   "display_name": "Python 3",
   "language": "python",
   "name": "python3"
  },
  "language_info": {
   "codemirror_mode": {
    "name": "ipython",
    "version": 3
   },
   "file_extension": ".py",
   "mimetype": "text/x-python",
   "name": "python",
   "nbconvert_exporter": "python",
   "pygments_lexer": "ipython3",
   "version": "3.9.13"
  }
 },
 "nbformat": 4,
 "nbformat_minor": 2
}
